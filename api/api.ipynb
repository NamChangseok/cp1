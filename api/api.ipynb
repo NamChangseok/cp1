{
 "cells": [
  {
   "cell_type": "code",
   "execution_count": 1,
   "metadata": {},
   "outputs": [],
   "source": [
    "from urllib.request import urlopen  #1\n",
    "from bs4 import BeautifulSoup "
   ]
  },
  {
   "cell_type": "code",
   "execution_count": 2,
   "metadata": {},
   "outputs": [],
   "source": [
    "key = 'jogsRDQXJC%2F2u7N4D%2BgZAG7Q8tIYqnaLQfBWS933VD9zF%2BUNd%2Frh8TYPhqnp93ii%2FNhIIiTVz6FUwtrFFywjdA%3D%3D'\n",
    "url=f'http://apis.data.go.kr/6260000/RecommendedService/getRecommendedKr?serviceKey={key}&numOfRows=10&pageNo=1'"
   ]
  },
  {
   "cell_type": "code",
   "execution_count": 3,
   "metadata": {},
   "outputs": [],
   "source": [
    "result = urlopen(url)  #7\n",
    "house = BeautifulSoup(result, 'lxml-xml')  #8\n",
    "te = house.find_all('item')  #9"
   ]
  },
  {
   "cell_type": "code",
   "execution_count": 11,
   "metadata": {},
   "outputs": [],
   "source": [
    "dataes=[]\n",
    "for item in te:\n",
    "      title=item.find('MAIN_TITLE') # 메인제목\n",
    "      title2=item.find('TITLE') # 제목\n",
    "      concept=item.find('CATE2_NM') # 여행 컨셉\n",
    "      locate=item.find('GUGUN_NM') # 주소 구군\n",
    "      place=item.find('PLACE') # 위치\n",
    "      add1=item.find('ADDR1') # 주소\n",
    "      add2=item.find('ADDR2') # 주소 기타\n",
    "      call=item.find('CNTCT_TEL') # 연락처\n",
    "      home_page=item.find('HOMPAGE_URL') # 홈페이지 URL\n",
    "      traf=item.find('TRFC_INFO') # 교통정보\n",
    "      usage_day=item.find('USAGE_DAY') # 운영일\n",
    "      holl_day=item.find('HLDY_INFO') # 휴무일 \n",
    "      time=item.find('USAGE_DAY_WEEK_AND_TIME') # 운영시간\n",
    "      fee=item.find('USAGE_AMOUNT') # 요금\n",
    "      fac=item.find('MIDDLE_SIZE_RM1') # 편의시설\n",
    "      image_url=item.find('MAIN_IMG_NORMAL') # 이미지 URL\n",
    "      sum_url=item.find('MAIN_IMG_THUMB') # 썸네일이미지 URL\n",
    "      itemcntnts=item.find('ITEMCNTNTS') # 상세내용\n",
    "      data=[title.get_text(),title2.get_text(),concept.get_text(),locate.get_text(),place.get_text(),\n",
    "            add1.get_text(),add2.get_text(), call.get_text(),home_page,traf.get_text(),\n",
    "            usage_day.get_text(),holl_day.get_text(),time.get_text(),fee.get_text(),fac.get_text(),\n",
    "            image_url.get_text(),sum_url.get_text(),itemcntnts.get_text()]\n",
    "      dataes.append(data)"
   ]
  },
  {
   "cell_type": "code",
   "execution_count": 12,
   "metadata": {},
   "outputs": [
    {
     "data": {
      "text/plain": [
       "['강다니엘코스',\n",
       " '‘강다니엘 투어’ 따라 부산 구석구석',\n",
       " '이색여행',\n",
       " '영도구',\n",
       " '강다니엘코스',\n",
       " '영도대교 부산광역시 영도구 대교동1가\\n신선중학교 부산광역시 영도구 복지관길 40\\n흰여울문화마을 부산광역시 영도구 흰여울길\\n태종대 부산광역시 영도구 전망로 24',\n",
       " '',\n",
       " '',\n",
       " None,\n",
       " '영도대교\\n도시철도 1호선 남포역 6번, 8번 출구\\n신선중학교\\n버스 6, 82, 85, 9 신선중학교 하차 도보 3분\\n흰여울문화마을\\n도시철도 1호선 남포역 6번 출구 → 7, 71, 508 버스 환승 → 영선동 백련사 하차\\n부산시티투어버스 부산역(점보버스) → 흰여울문화마을 하차\\n주차 절영해안산책로 공영주차장\\n태종대\\n도시철도 1호선 부산역 7번 출구 →  66, 88, 101 버스 환승 → 태종대(태종대온천) 하차\\n주차 태종대 주차장',\n",
       " '',\n",
       " '',\n",
       " '',\n",
       " '무료',\n",
       " '',\n",
       " 'https://www.visitbusan.net/uploadImgs/files/cntnts/20191226144955936_ttiel',\n",
       " 'https://www.visitbusan.net/uploadImgs/files/cntnts/20191226144955936_thumbL',\n",
       " '프로듀스 101 시즌 2를 통해 데뷔한 가수 강다니엘. \\n그의 인기에 힘입어 전 세계에서 그의 팬들이 몰려오고 있다. 바로 그가 태어나고 자란 고향, 부산으로.\\n부산이 강다니엘 덕후 투어로 새롭게 주목받고 있다. 부산 곳곳 그의 숨결이 닿았던 곳은 이미 성지순례길로 유명해진 터. 부산 영도 출신 강다니엘의 모교부터 부산 유명 명소와 맛집까지, 팬심과 관광을 동시에 만족시킬 수 있는 강다니엘 코스를 소개한다.\\n\\n<p class=\"font-size28 colorDarkBlue medium\">강다니엘코스</p><p class=\"font-size20 medium\">영도대교 – 신선중학교 – 흰여울문화마을 - 태종대</p>\\n<p class=\"font-size20 colorDarkBlue bold\">영도대교</p>먼저 찾아가볼 곳은 국내 유일 도개교 영도대교다. 영도 여행의 시작은 영도대교란 말이 있을 정도인데 부산 주민이라면 이 장소의 상징성을 모르는 이들이 없다. 강다니엘 역시 가족들과 친구들과 이 다리를 수 없이 오갔을 터. 옛 부터 영도와 육지를 잇던 영도대교에선 매일 오후 2시마다 15분간 도개 행사가 열린다. 매일 이 시간이면 영도다리 상판이 하늘을 향해 열리는 특별한 장면을 보기 위해 사람들이 몰려든다. 영도대교 도개를 제대로 보려면 남포동 방향에서 관람하는 것을 추천한다.\\n<p class=\"font-size20 colorDarkBlue bold\">신선중학교</p>영도에 입도했다면 버스를 타고 신선중학교에 들러보자. 강다니엘의 모교인데 그가 영도에서 3년 간 학창시절을 보낸 곳이다. 매일 아침 등교를 하며 걸었을 학교 앞 골목부터 운동장, 그의 손길이 남아있을 책걸상들까지. 그의 학창시절을 상상하는 것만으로 마음이 설레는 팬들이 있을 거다. 학교에서 내려다보이는 푸른 바다 풍경은 덤이다. 학생들이 공부하는 이곳을 방문하려면 정숙은 기본.\\n<p class=\"font-size20 colorDarkBlue bold\">고등어회 레스토랑</p>신선중학교에 방문했다면 학교 바로 아래 있는 고등어회 전문 식당도 그냥 지나칠 수 없는 장소다. 강다니엘이 모교 선생님과 처음으로 술잔을 기울인 곳이기 때문이다. 고등어라고 하면 흔히 구이나 조림을 떠올리지만, 신선한 고등어가 많은 부산에선 회로 즐기는 경우가 많다. 이곳은 고등어 초회와 해산물 요리가 일품인데 규모는 작지만 아기자기하고 정다운 식당 분위기가 옛 정취를 불러일으키기 충분하다.\\n<p class=\"font-size20 colorDarkBlue bold\">흰여울문화마을</p>영도 흰여울문화마을도 빼놓을 수 없는 명소다. 지역 예술가들과 주민들이 힘을 합쳐 오래된 동네를 새롭게 꾸민 이곳은 한국의 산토리니라고 불린다. 예쁜 벽화와 탁 트인 바다 풍경은 인생 사진을 남기기에 더 없이 좋은 장소다. 마을 전체가 바다를 마당으로 두고 사는 곳으로 좁은 골목길을 따라 걷다 보면 분명 목가적 어촌 마을 풍경에 마음을 뺏기게 될 것이다.\\n<p class=\"font-size20 colorDarkBlue bold\">태종대</p>태종대는 옛 부터 영도 대표 유원지였다. 영도에서 자란 이들이라면 학창시절 태종대로 소풍을 가보지 않은 이가 없을 정도다. 분명 강다니엘도 소풍날 태종대에서 뛰어 놀지 않았을까. 드넓게 펼쳐진 바다와 기암괴석의 신비로움을 감상하기에 더 없이 좋은 장소인 태종대를 도보로 구경하려면 1시간 이상 잡아야 한다. 하지만 걷기가 부담스럽다면 저속 기차 ‘다누비 열차’를 타는 방법도 있다.\\n영도대교로 시작해 태종대까지 둘러 본 강다니엘 코스. 어린 시절 강다니엘이 가수를 꿈꾸며 걸었을 골목부터 영도를 대표하는 명소들까지. 이렇듯 영도는 오롯이 하루를 투자해도 될 만큼 다양하고 알찬 풍경을 간직하고 있다.\\n']"
      ]
     },
     "execution_count": 12,
     "metadata": {},
     "output_type": "execute_result"
    }
   ],
   "source": [
    "dataes[0]"
   ]
  },
  {
   "cell_type": "code",
   "execution_count": null,
   "metadata": {},
   "outputs": [],
   "source": []
  }
 ],
 "metadata": {
  "kernelspec": {
   "display_name": "Python 3.9.12 ('cp1')",
   "language": "python",
   "name": "python3"
  },
  "language_info": {
   "codemirror_mode": {
    "name": "ipython",
    "version": 3
   },
   "file_extension": ".py",
   "mimetype": "text/x-python",
   "name": "python",
   "nbconvert_exporter": "python",
   "pygments_lexer": "ipython3",
   "version": "3.8.13"
  },
  "orig_nbformat": 4,
  "vscode": {
   "interpreter": {
    "hash": "4e20cae8c02cdbfab86f340bcf03db6c207aa5d0f73c59fd22468510bba19095"
   }
  }
 },
 "nbformat": 4,
 "nbformat_minor": 2
}
